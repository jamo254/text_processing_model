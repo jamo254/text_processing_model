{
  "nbformat": 4,
  "nbformat_minor": 0,
  "metadata": {
    "colab": {
      "provenance": [],
      "authorship_tag": "ABX9TyM3zg1IuJsmPt0zTzP/fVf7",
      "include_colab_link": true
    },
    "kernelspec": {
      "name": "python3",
      "display_name": "Python 3"
    },
    "language_info": {
      "name": "python"
    }
  },
  "cells": [
    {
      "cell_type": "markdown",
      "metadata": {
        "id": "view-in-github",
        "colab_type": "text"
      },
      "source": [
        "<a href=\"https://colab.research.google.com/github/jamo254/text_processing_model/blob/main/generative_text_rnn.ipynb\" target=\"_parent\"><img src=\"https://colab.research.google.com/assets/colab-badge.svg\" alt=\"Open In Colab\"/></a>"
      ]
    },
    {
      "cell_type": "markdown",
      "source": [
        "#<center>Introduction to text generation Using RNN </center>\n",
        "\n"
      ],
      "metadata": {
        "id": "661wpx2IShk5"
      }
    },
    {
      "cell_type": "markdown",
      "source": [
        "### Setup\n",
        "### Importing required libraries"
      ],
      "metadata": {
        "id": "EZo3cEJ8Tv9S"
      }
    },
    {
      "cell_type": "code",
      "source": [
        "import tensorflow as tf\n",
        "import numpy as np\n",
        "import os\n",
        "import time"
      ],
      "metadata": {
        "id": "KIUpMjjSVW__"
      },
      "execution_count": 1,
      "outputs": []
    },
    {
      "cell_type": "code",
      "source": [
        "# Uploading data\n",
        "text_file = tf.keras.utils.get_file('shakespeare.txt', 'https://storage.googleapis.com/download.tensorflow.org/data/shakespeare.txt')"
      ],
      "metadata": {
        "colab": {
          "base_uri": "https://localhost:8080/"
        },
        "id": "2AzFeApwVkjN",
        "outputId": "f02f9865-6fa3-4b1c-f29c-83e007c7126a"
      },
      "execution_count": 2,
      "outputs": [
        {
          "output_type": "stream",
          "name": "stdout",
          "text": [
            "Downloading data from https://storage.googleapis.com/download.tensorflow.org/data/shakespeare.txt\n",
            "1115394/1115394 [==============================] - 0s 0us/step\n"
          ]
        }
      ]
    },
    {
      "cell_type": "code",
      "source": [
        "# Reading the file content\n",
        "text = open(text_file, 'rb').read().decode(encoding='utf-8') \n",
        "print(f'Length of text: {len(text)} characters')"
      ],
      "metadata": {
        "colab": {
          "base_uri": "https://localhost:8080/"
        },
        "id": "pRjNl-tzWL8m",
        "outputId": "5ee38556-27af-417f-bb30-2a20fa9ac066"
      },
      "execution_count": 3,
      "outputs": [
        {
          "output_type": "stream",
          "name": "stdout",
          "text": [
            "Length of text: 1115394 characters\n"
          ]
        }
      ]
    },
    {
      "cell_type": "code",
      "source": [
        "print(text[:260])"
      ],
      "metadata": {
        "colab": {
          "base_uri": "https://localhost:8080/"
        },
        "id": "XakZjH6RaLg5",
        "outputId": "b0bf9d9d-73dc-47d1-b2a5-f51c528a91f8"
      },
      "execution_count": 4,
      "outputs": [
        {
          "output_type": "stream",
          "name": "stdout",
          "text": [
            "First Citizen:\n",
            "Before we proceed any further, hear me speak.\n",
            "\n",
            "All:\n",
            "Speak, speak.\n",
            "\n",
            "First Citizen:\n",
            "You are all resolved rather to die than to famish?\n",
            "\n",
            "All:\n",
            "Resolved. resolved.\n",
            "\n",
            "First Citizen:\n",
            "First, you know Caius Marcius is chief enemy to the people.\n",
            "\n",
            "All:\n",
            "We k\n"
          ]
        }
      ]
    },
    {
      "cell_type": "code",
      "source": [
        "# Finding unique characters in a the file\n",
        "vocab = sorted(set(text))\n",
        "print(f'{len(vocab)} unique characters')\n",
        "print(vocab)"
      ],
      "metadata": {
        "colab": {
          "base_uri": "https://localhost:8080/"
        },
        "id": "zjZNav_cbcF3",
        "outputId": "e517d829-3e42-4e0d-f255-931cff5dcee2"
      },
      "execution_count": 5,
      "outputs": [
        {
          "output_type": "stream",
          "name": "stdout",
          "text": [
            "65 unique characters\n",
            "['\\n', ' ', '!', '$', '&', \"'\", ',', '-', '.', '3', ':', ';', '?', 'A', 'B', 'C', 'D', 'E', 'F', 'G', 'H', 'I', 'J', 'K', 'L', 'M', 'N', 'O', 'P', 'Q', 'R', 'S', 'T', 'U', 'V', 'W', 'X', 'Y', 'Z', 'a', 'b', 'c', 'd', 'e', 'f', 'g', 'h', 'i', 'j', 'k', 'l', 'm', 'n', 'o', 'p', 'q', 'r', 's', 't', 'u', 'v', 'w', 'x', 'y', 'z']\n"
          ]
        }
      ]
    },
    {
      "cell_type": "markdown",
      "source": [
        "## Vectorization and Tokenization \n",
        "\n",
        "###Vectorize the text\n",
        "- Before training you need to  represent the strings numerically.\n",
        "- The tf.keras.layers.StringLookup layer can convert each character into a numeric ID. It just needs the text to be split into tokens first.\n",
        "\n",
        "\n",
        "```\n",
        "# Example of tokenization\n",
        "example_texts = ['abcdefg', 'xyz']\n",
        "\n",
        "chars = tf.strings.unicode_split(example_texts, input_encoding='UTF-8')\n",
        "chars\n",
        "```\n",
        "\n",
        "\n"
      ],
      "metadata": {
        "id": "jHVz924DcBoL"
      }
    },
    {
      "cell_type": "code",
      "source": [
        "sample_texts = ['abcdefg', 'xyz']\n",
        "char_tokens = tf.strings.unicode_split(sample_texts, input_encoding=\"UTF-8\")\n",
        "char_tokens"
      ],
      "metadata": {
        "colab": {
          "base_uri": "https://localhost:8080/"
        },
        "id": "IeNjkzRyemra",
        "outputId": "6a8bcdd8-7261-4e78-94de-3fe7d82ed7bd"
      },
      "execution_count": 6,
      "outputs": [
        {
          "output_type": "execute_result",
          "data": {
            "text/plain": [
              "<tf.RaggedTensor [[b'a', b'b', b'c', b'd', b'e', b'f', b'g'], [b'x', b'y', b'z']]>"
            ]
          },
          "metadata": {},
          "execution_count": 6
        }
      ]
    },
    {
      "cell_type": "markdown",
      "source": [
        "### Creating a layer using "
      ],
      "metadata": {
        "id": "qQ4Rx5SsgqrV"
      }
    },
    {
      "cell_type": "code",
      "source": [
        "ids_from_char_tokens = tf.keras.layers.StringLookup(\n",
        "    vocabulary=list(vocab), mask_token=None\n",
        ")"
      ],
      "metadata": {
        "id": "bYgVG1zhgywa"
      },
      "execution_count": 7,
      "outputs": []
    },
    {
      "cell_type": "code",
      "source": [
        "# Converting tokens to character IDs \n",
        "ids = ids_from_char_tokens(char_tokens)\n",
        "ids"
      ],
      "metadata": {
        "colab": {
          "base_uri": "https://localhost:8080/"
        },
        "id": "mGa9GC1shbbG",
        "outputId": "36e67a9b-aa24-4388-d92f-93acac913b9d"
      },
      "execution_count": 8,
      "outputs": [
        {
          "output_type": "execute_result",
          "data": {
            "text/plain": [
              "<tf.RaggedTensor [[40, 41, 42, 43, 44, 45, 46], [63, 64, 65]]>"
            ]
          },
          "metadata": {},
          "execution_count": 8
        }
      ]
    },
    {
      "cell_type": "markdown",
      "source": [
        "### Inverting the representation above in order to recover human readable strings\n"
      ],
      "metadata": {
        "id": "cES-tPtNiaej"
      }
    },
    {
      "cell_type": "code",
      "source": [
        "chars_from_ids = tf.keras.layers.StringLookup(\n",
        "    vocabulary=ids_from_char_tokens.get_vocabulary(), invert=True, mask_token=None\n",
        ")"
      ],
      "metadata": {
        "id": "IT5Fev3qiriZ"
      },
      "execution_count": 9,
      "outputs": []
    },
    {
      "cell_type": "code",
      "source": [
        "# This layer recovers the characters from the vectors of IDs, and returns them as a tf.RaggedTensor of characters:\n",
        "chars = chars_from_ids(ids)\n",
        "chars"
      ],
      "metadata": {
        "colab": {
          "base_uri": "https://localhost:8080/"
        },
        "id": "4t_IwX70kfAM",
        "outputId": "ef5d9d94-c212-433f-faac-ad6e5b397602"
      },
      "execution_count": 10,
      "outputs": [
        {
          "output_type": "execute_result",
          "data": {
            "text/plain": [
              "<tf.RaggedTensor [[b'a', b'b', b'c', b'd', b'e', b'f', b'g'], [b'x', b'y', b'z']]>"
            ]
          },
          "metadata": {},
          "execution_count": 10
        }
      ]
    },
    {
      "cell_type": "markdown",
      "source": [
        "### Joining the characters back into strings using \n",
        "\n",
        "```\n",
        "- # tf.strings.reduce_join\n",
        "```\n",
        "\n"
      ],
      "metadata": {
        "id": "npwAAFRNlpMY"
      }
    },
    {
      "cell_type": "code",
      "source": [
        "tf.strings.reduce_join(chars, axis=-1).numpy()"
      ],
      "metadata": {
        "colab": {
          "base_uri": "https://localhost:8080/"
        },
        "id": "BXZSh4fUmMQy",
        "outputId": "0d968f62-16b9-4c07-b119-1688cbb82fb4"
      },
      "execution_count": 11,
      "outputs": [
        {
          "output_type": "execute_result",
          "data": {
            "text/plain": [
              "array([b'abcdefg', b'xyz'], dtype=object)"
            ]
          },
          "metadata": {},
          "execution_count": 11
        }
      ]
    },
    {
      "cell_type": "code",
      "source": [
        "def text_from_ids(ids):\n",
        "  return tf.strings.reduce_join(chars_from_ids(ids), axis=-1)"
      ],
      "metadata": {
        "id": "HjDyFRSRmhVZ"
      },
      "execution_count": 12,
      "outputs": []
    },
    {
      "cell_type": "markdown",
      "source": [
        "## Problem statement\n",
        "- Given a certain character or a sequence of characters predict the next character.\n",
        "- Input of the model is a set of character, the model should predict the output following character.\n",
        "\n",
        "### RNNs maintain an internal state on previously seen elements."
      ],
      "metadata": {
        "id": "ZPZwsNY0wPus"
      }
    },
    {
      "cell_type": "markdown",
      "source": [
        "# Creating Training samples and targets\n",
        "### - First divide the text into examples sequences. Each input sequence will contain `seq_length` charactes from text.\n",
        "### - Each input sequence, the corresponding targets contain the same length of text, except shifted one character to the right.\n",
        "### - So break the text into chunks of `seq_length+1`. For example, say `seq_length` is 4 and our text is \"Hello\". The input sequence would be \"Hell\", and the target sequence \"ello\".\n",
        "- To do this first use the `tf.data.Dataset.from_tensor_slices` function to convert the text vector into a stream of character indices."
      ],
      "metadata": {
        "id": "GSkeNKloxtNZ"
      }
    },
    {
      "cell_type": "code",
      "source": [
        "all_ids = ids_from_char_tokens(tf.strings.unicode_split(text, 'UTF-8'))\n",
        "all_ids"
      ],
      "metadata": {
        "colab": {
          "base_uri": "https://localhost:8080/"
        },
        "id": "Y2LGWjoH0pIE",
        "outputId": "4d79a8bd-ef6a-4863-fa62-0e6f4e979b28"
      },
      "execution_count": 13,
      "outputs": [
        {
          "output_type": "execute_result",
          "data": {
            "text/plain": [
              "<tf.Tensor: shape=(1115394,), dtype=int64, numpy=array([19, 48, 57, ..., 46,  9,  1])>"
            ]
          },
          "metadata": {},
          "execution_count": 13
        }
      ]
    },
    {
      "cell_type": "code",
      "source": [
        "ids_dataset = tf.data.Dataset.from_tensor_slices(all_ids)"
      ],
      "metadata": {
        "id": "kY-Gjozm1Lvl"
      },
      "execution_count": 14,
      "outputs": []
    },
    {
      "cell_type": "code",
      "source": [
        "for ids in ids_dataset.take(10):\n",
        "  print(chars_from_ids(ids).numpy().decode('utf-8'))"
      ],
      "metadata": {
        "colab": {
          "base_uri": "https://localhost:8080/"
        },
        "id": "xxjoR-rH1c2e",
        "outputId": "65ed6b88-6f69-4f56-a016-433c80a4f89c"
      },
      "execution_count": 15,
      "outputs": [
        {
          "output_type": "stream",
          "name": "stdout",
          "text": [
            "F\n",
            "i\n",
            "r\n",
            "s\n",
            "t\n",
            " \n",
            "C\n",
            "i\n",
            "t\n",
            "i\n"
          ]
        }
      ]
    },
    {
      "cell_type": "code",
      "source": [
        "seq_length = 100"
      ],
      "metadata": {
        "id": "mkDFbhys145Z"
      },
      "execution_count": 16,
      "outputs": []
    },
    {
      "cell_type": "markdown",
      "source": [
        "### The `batch` method lets you easily convert these individual characters to sequences of the desired size."
      ],
      "metadata": {
        "id": "i_occsPY198C"
      }
    },
    {
      "cell_type": "code",
      "source": [
        "sequences = ids_dataset.batch(seq_length+1, drop_remainder=True)\n",
        "\n",
        "for seq in sequences.take(1):\n",
        "  print(chars_from_ids(seq))"
      ],
      "metadata": {
        "colab": {
          "base_uri": "https://localhost:8080/"
        },
        "id": "I6E15Xx72Udk",
        "outputId": "0f250377-3722-4925-fb64-bfa1fd8b8a6a"
      },
      "execution_count": 17,
      "outputs": [
        {
          "output_type": "stream",
          "name": "stdout",
          "text": [
            "tf.Tensor(\n",
            "[b'F' b'i' b'r' b's' b't' b' ' b'C' b'i' b't' b'i' b'z' b'e' b'n' b':'\n",
            " b'\\n' b'B' b'e' b'f' b'o' b'r' b'e' b' ' b'w' b'e' b' ' b'p' b'r' b'o'\n",
            " b'c' b'e' b'e' b'd' b' ' b'a' b'n' b'y' b' ' b'f' b'u' b'r' b't' b'h'\n",
            " b'e' b'r' b',' b' ' b'h' b'e' b'a' b'r' b' ' b'm' b'e' b' ' b's' b'p'\n",
            " b'e' b'a' b'k' b'.' b'\\n' b'\\n' b'A' b'l' b'l' b':' b'\\n' b'S' b'p' b'e'\n",
            " b'a' b'k' b',' b' ' b's' b'p' b'e' b'a' b'k' b'.' b'\\n' b'\\n' b'F' b'i'\n",
            " b'r' b's' b't' b' ' b'C' b'i' b't' b'i' b'z' b'e' b'n' b':' b'\\n' b'Y'\n",
            " b'o' b'u' b' '], shape=(101,), dtype=string)\n"
          ]
        }
      ]
    },
    {
      "cell_type": "markdown",
      "source": [
        "Sampling the above results"
      ],
      "metadata": {
        "id": "2H45gDc03MVz"
      }
    },
    {
      "cell_type": "code",
      "source": [
        "for seq in sequences.take(5):\n",
        "  print(text_from_ids(seq).numpy())"
      ],
      "metadata": {
        "colab": {
          "base_uri": "https://localhost:8080/"
        },
        "id": "n-NaZ-4L3W9h",
        "outputId": "ee52d8fe-aec7-4a18-945a-22974626a5f3"
      },
      "execution_count": 18,
      "outputs": [
        {
          "output_type": "stream",
          "name": "stdout",
          "text": [
            "b'First Citizen:\\nBefore we proceed any further, hear me speak.\\n\\nAll:\\nSpeak, speak.\\n\\nFirst Citizen:\\nYou '\n",
            "b'are all resolved rather to die than to famish?\\n\\nAll:\\nResolved. resolved.\\n\\nFirst Citizen:\\nFirst, you k'\n",
            "b\"now Caius Marcius is chief enemy to the people.\\n\\nAll:\\nWe know't, we know't.\\n\\nFirst Citizen:\\nLet us ki\"\n",
            "b\"ll him, and we'll have corn at our own price.\\nIs't a verdict?\\n\\nAll:\\nNo more talking on't; let it be d\"\n",
            "b'one: away, away!\\n\\nSecond Citizen:\\nOne word, good citizens.\\n\\nFirst Citizen:\\nWe are accounted poor citi'\n"
          ]
        }
      ]
    },
    {
      "cell_type": "markdown",
      "source": [
        "- We need a dataset of (`input`, `label`) pairs. Where `input` & `label` are sequences.\n",
        "- At each time step the `input` is the current  character and the label is the next character.\n",
        "- The function takes a sequence as input, duplicates, and shifts it to align the input and label for each timestep.."
      ],
      "metadata": {
        "id": "OY7hCDpT53fe"
      }
    },
    {
      "cell_type": "code",
      "source": [
        "def split_input_target(sequence):\n",
        "  input_text = sequence[:-1]\n",
        "  target_text = sequence[1:]\n",
        "  return input_text, target_text"
      ],
      "metadata": {
        "id": "-ZDv2KyE8IVs"
      },
      "execution_count": 19,
      "outputs": []
    },
    {
      "cell_type": "code",
      "source": [
        "split_input_target(list(\"Processing text\"))"
      ],
      "metadata": {
        "colab": {
          "base_uri": "https://localhost:8080/"
        },
        "id": "nKniHCS9DaOZ",
        "outputId": "4db6f318-5e91-4bad-c0d5-da2404756d67"
      },
      "execution_count": 20,
      "outputs": [
        {
          "output_type": "execute_result",
          "data": {
            "text/plain": [
              "(['P', 'r', 'o', 'c', 'e', 's', 's', 'i', 'n', 'g', ' ', 't', 'e', 'x'],\n",
              " ['r', 'o', 'c', 'e', 's', 's', 'i', 'n', 'g', ' ', 't', 'e', 'x', 't'])"
            ]
          },
          "metadata": {},
          "execution_count": 20
        }
      ]
    },
    {
      "cell_type": "code",
      "source": [
        "dataset = sequences.map(split_input_target)"
      ],
      "metadata": {
        "id": "Q9CnZJ_iGhnu"
      },
      "execution_count": 21,
      "outputs": []
    },
    {
      "cell_type": "code",
      "source": [
        "for input_sample, target_sample in dataset.take(1):\n",
        "  print(\"Input :\", text_from_ids(input_sample).numpy())\n",
        "  print(\"Target :\", text_from_ids(target_sample).numpy())"
      ],
      "metadata": {
        "colab": {
          "base_uri": "https://localhost:8080/"
        },
        "id": "ZV4R-OKnGue2",
        "outputId": "7c1cf853-b8b9-4c4a-8462-df93689127a0"
      },
      "execution_count": 22,
      "outputs": [
        {
          "output_type": "stream",
          "name": "stdout",
          "text": [
            "Input : b'First Citizen:\\nBefore we proceed any further, hear me speak.\\n\\nAll:\\nSpeak, speak.\\n\\nFirst Citizen:\\nYou'\n",
            "Target : b'irst Citizen:\\nBefore we proceed any further, hear me speak.\\n\\nAll:\\nSpeak, speak.\\n\\nFirst Citizen:\\nYou '\n"
          ]
        }
      ]
    },
    {
      "cell_type": "markdown",
      "source": [
        "### Creating training batches (number of training examples)\n",
        "- We used `tf.data` to split the text into to manageable sequences, but before feedind this data into the model, we need to shuffle the data and pack it into batches."
      ],
      "metadata": {
        "id": "NVtqT9P3IJEN"
      }
    },
    {
      "cell_type": "code",
      "source": [
        "# Batch size\n",
        "BATCH_SIZE = 64\n",
        "\n",
        "# Buffer size to shuffle the dataset\n",
        "# (TF data is designed to work with possibly infinite sequences,\n",
        "# so it doesn't attempt to shuffle the entire sequence in memory. Instead,\n",
        "# it maintains a buffer in which it shuffles elements).\n",
        "BUFFER_SIZE = 10000\n",
        "\n",
        "dataset = (\n",
        "    dataset\n",
        "    .shuffle(BUFFER_SIZE)\n",
        "    .batch(BATCH_SIZE, drop_remainder=True)\n",
        "    .prefetch(tf.data.experimental.AUTOTUNE))\n",
        "\n",
        "dataset\n"
      ],
      "metadata": {
        "id": "qMVbp8GEI5Ri",
        "colab": {
          "base_uri": "https://localhost:8080/"
        },
        "outputId": "fd31fb09-77b7-4008-d89f-ee5fc698ab26"
      },
      "execution_count": 23,
      "outputs": [
        {
          "output_type": "execute_result",
          "data": {
            "text/plain": [
              "<_PrefetchDataset element_spec=(TensorSpec(shape=(64, 100), dtype=tf.int64, name=None), TensorSpec(shape=(64, 100), dtype=tf.int64, name=None))>"
            ]
          },
          "metadata": {},
          "execution_count": 23
        }
      ]
    },
    {
      "cell_type": "markdown",
      "source": [
        "# Creating Text Processing Model"
      ],
      "metadata": {
        "id": "4Q8UaPGhvVns"
      }
    },
    {
      "cell_type": "markdown",
      "source": [
        "## Building The Model\n",
        "Our model contains three layers:\n",
        "\n",
        "\n",
        "*   `tf.keras.layers.Embedding`: The input layer. A trainable lookup table that will map each character-ID to a vector with embedding_dim dimensions;\n",
        "*    `tf.keras.layers.GRU`: A type of RNN with size `unit=rnn_units`\n",
        "*    `tf.keras.layers.Dense`: The output layer, with `vocab_size` outputs. It ouputs one logit (a function that represents probability values from 0 to 1) for each character in the vocabulary. These are the log-likelihood of each character according to the model.\n",
        "\n"
      ],
      "metadata": {
        "id": "8JX_cZFNouPj"
      }
    },
    {
      "cell_type": "code",
      "source": [
        "# Length of the vocabulary in the StringLookup Layer\n",
        "vocab_size = len(ids_from_char_tokens.get_vocabulary())\n",
        "\n",
        "#The embedding dimension\n",
        "embedding_dim = 256\n",
        "\n",
        "#Number of RNN units\n",
        "rnn_units = 1024"
      ],
      "metadata": {
        "id": "ym7zH9Dou0GN"
      },
      "execution_count": 27,
      "outputs": []
    },
    {
      "cell_type": "code",
      "source": [
        "class MyModel(tf.keras.Model):\n",
        "  def __init__(self, vocab_size, embedding_dim, rnn_units):\n",
        "    super().__init__(self)\n",
        "    # Input Layer\n",
        "    self.embedding = tf.keras.layers.Embedding(vocab_size, embedding_dim )\n",
        "    # RNN \n",
        "    self.gru = tf.keras.layers.GRU(rnn_units,\n",
        "                                  return_sequences=True,\n",
        "                                  return_state=True )\n",
        "    #Output layer\n",
        "    self.dense = tf.keras.layers.Dense(vocab_size)\n",
        "  \n",
        "  def call(self, inputs, states=None, return_state=False, training=False):\n",
        "    x = inputs\n",
        "    x = self.embedding(x, training=training)\n",
        "    if states is None:\n",
        "      states = self.gru.get_initial_state(x)\n",
        "    x, states = self.gru(x, initial_state=states, training=training)\n",
        "    x = self.dense(x, training=training)\n",
        "\n",
        "    if return_state:\n",
        "      return x, states\n",
        "    else:\n",
        "      return x\n",
        "      \n"
      ],
      "metadata": {
        "id": "1AoI0WVdwUlM"
      },
      "execution_count": 28,
      "outputs": []
    },
    {
      "cell_type": "code",
      "source": [],
      "metadata": {
        "id": "_BDMO2y8yrJ8"
      },
      "execution_count": null,
      "outputs": []
    }
  ]
}