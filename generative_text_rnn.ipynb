{
  "nbformat": 4,
  "nbformat_minor": 0,
  "metadata": {
    "colab": {
      "provenance": [],
      "authorship_tag": "ABX9TyNw6XsAFbYWU8ir5XBy8b7/",
      "include_colab_link": true
    },
    "kernelspec": {
      "name": "python3",
      "display_name": "Python 3"
    },
    "language_info": {
      "name": "python"
    }
  },
  "cells": [
    {
      "cell_type": "markdown",
      "metadata": {
        "id": "view-in-github",
        "colab_type": "text"
      },
      "source": [
        "<a href=\"https://colab.research.google.com/github/jamo254/text_processing_model/blob/main/generative_text_rnn.ipynb\" target=\"_parent\"><img src=\"https://colab.research.google.com/assets/colab-badge.svg\" alt=\"Open In Colab\"/></a>"
      ]
    },
    {
      "cell_type": "markdown",
      "source": [
        "#<center>Introduction to text generation Using RNN </center>\n",
        "\n"
      ],
      "metadata": {
        "id": "661wpx2IShk5"
      }
    },
    {
      "cell_type": "markdown",
      "source": [
        "### Setup\n",
        "### Importing required libraries"
      ],
      "metadata": {
        "id": "EZo3cEJ8Tv9S"
      }
    },
    {
      "cell_type": "code",
      "source": [
        "import tensorflow as tf\n",
        "import numpy as np\n",
        "import os\n",
        "import time"
      ],
      "metadata": {
        "id": "KIUpMjjSVW__"
      },
      "execution_count": null,
      "outputs": []
    },
    {
      "cell_type": "code",
      "source": [
        "# Uploading data\n",
        "text_file = tf.keras.utils.get_file('shakespeare.txt', 'https://storage.googleapis.com/download.tensorflow.org/data/shakespeare.txt')"
      ],
      "metadata": {
        "colab": {
          "base_uri": "https://localhost:8080/"
        },
        "id": "2AzFeApwVkjN",
        "outputId": "f02f9865-6fa3-4b1c-f29c-83e007c7126a"
      },
      "execution_count": null,
      "outputs": [
        {
          "output_type": "stream",
          "name": "stdout",
          "text": [
            "Downloading data from https://storage.googleapis.com/download.tensorflow.org/data/shakespeare.txt\n",
            "1115394/1115394 [==============================] - 0s 0us/step\n"
          ]
        }
      ]
    },
    {
      "cell_type": "code",
      "source": [
        "# Reading the file content\n",
        "text = open(text_file, 'rb').read().decode(encoding='utf-8') \n",
        "print(f'Length of text: {len(text)} characters')"
      ],
      "metadata": {
        "colab": {
          "base_uri": "https://localhost:8080/"
        },
        "id": "pRjNl-tzWL8m",
        "outputId": "5ee38556-27af-417f-bb30-2a20fa9ac066"
      },
      "execution_count": null,
      "outputs": [
        {
          "output_type": "stream",
          "name": "stdout",
          "text": [
            "Length of text: 1115394 characters\n"
          ]
        }
      ]
    },
    {
      "cell_type": "code",
      "source": [
        "print(text[:260])"
      ],
      "metadata": {
        "colab": {
          "base_uri": "https://localhost:8080/"
        },
        "id": "XakZjH6RaLg5",
        "outputId": "b0bf9d9d-73dc-47d1-b2a5-f51c528a91f8"
      },
      "execution_count": null,
      "outputs": [
        {
          "output_type": "stream",
          "name": "stdout",
          "text": [
            "First Citizen:\n",
            "Before we proceed any further, hear me speak.\n",
            "\n",
            "All:\n",
            "Speak, speak.\n",
            "\n",
            "First Citizen:\n",
            "You are all resolved rather to die than to famish?\n",
            "\n",
            "All:\n",
            "Resolved. resolved.\n",
            "\n",
            "First Citizen:\n",
            "First, you know Caius Marcius is chief enemy to the people.\n",
            "\n",
            "All:\n",
            "We k\n"
          ]
        }
      ]
    },
    {
      "cell_type": "code",
      "source": [
        "# Finding unique characters in a the file\n",
        "vocab = sorted(set(text))\n",
        "print(f'{len(vocab)} unique characters')\n",
        "print(vocab)"
      ],
      "metadata": {
        "colab": {
          "base_uri": "https://localhost:8080/"
        },
        "id": "zjZNav_cbcF3",
        "outputId": "e517d829-3e42-4e0d-f255-931cff5dcee2"
      },
      "execution_count": null,
      "outputs": [
        {
          "output_type": "stream",
          "name": "stdout",
          "text": [
            "65 unique characters\n",
            "['\\n', ' ', '!', '$', '&', \"'\", ',', '-', '.', '3', ':', ';', '?', 'A', 'B', 'C', 'D', 'E', 'F', 'G', 'H', 'I', 'J', 'K', 'L', 'M', 'N', 'O', 'P', 'Q', 'R', 'S', 'T', 'U', 'V', 'W', 'X', 'Y', 'Z', 'a', 'b', 'c', 'd', 'e', 'f', 'g', 'h', 'i', 'j', 'k', 'l', 'm', 'n', 'o', 'p', 'q', 'r', 's', 't', 'u', 'v', 'w', 'x', 'y', 'z']\n"
          ]
        }
      ]
    },
    {
      "cell_type": "markdown",
      "source": [
        "## Vectorization and Tokenization \n",
        "\n",
        "###Vectorize the text\n",
        "- Before training you need to  represent the strings numerically.\n",
        "- The tf.keras.layers.StringLookup layer can convert each character into a numeric ID. It just needs the text to be split into tokens first.\n",
        "\n",
        "\n",
        "```\n",
        "# Example of tokenization\n",
        "example_texts = ['abcdefg', 'xyz']\n",
        "\n",
        "chars = tf.strings.unicode_split(example_texts, input_encoding='UTF-8')\n",
        "chars\n",
        "```\n",
        "\n",
        "\n"
      ],
      "metadata": {
        "id": "jHVz924DcBoL"
      }
    },
    {
      "cell_type": "code",
      "source": [
        "sample_texts = ['abcdefg', 'xyz']\n",
        "char_tokens = tf.strings.unicode_split(sample_texts, input_encoding=\"UTF-8\")\n",
        "char_tokens"
      ],
      "metadata": {
        "colab": {
          "base_uri": "https://localhost:8080/"
        },
        "id": "IeNjkzRyemra",
        "outputId": "6a8bcdd8-7261-4e78-94de-3fe7d82ed7bd"
      },
      "execution_count": null,
      "outputs": [
        {
          "output_type": "execute_result",
          "data": {
            "text/plain": [
              "<tf.RaggedTensor [[b'a', b'b', b'c', b'd', b'e', b'f', b'g'], [b'x', b'y', b'z']]>"
            ]
          },
          "metadata": {},
          "execution_count": 6
        }
      ]
    },
    {
      "cell_type": "markdown",
      "source": [
        "### Creating a layer using "
      ],
      "metadata": {
        "id": "qQ4Rx5SsgqrV"
      }
    },
    {
      "cell_type": "code",
      "source": [
        "ids_from_char_tokens = tf.keras.layers.StringLookup(\n",
        "    vocabulary=list(vocab), mask_token=None\n",
        ")"
      ],
      "metadata": {
        "id": "bYgVG1zhgywa"
      },
      "execution_count": null,
      "outputs": []
    },
    {
      "cell_type": "code",
      "source": [
        "# Converting tokens to character IDs \n",
        "ids = ids_from_char_tokens(char_tokens)\n",
        "ids"
      ],
      "metadata": {
        "colab": {
          "base_uri": "https://localhost:8080/"
        },
        "id": "mGa9GC1shbbG",
        "outputId": "36e67a9b-aa24-4388-d92f-93acac913b9d"
      },
      "execution_count": null,
      "outputs": [
        {
          "output_type": "execute_result",
          "data": {
            "text/plain": [
              "<tf.RaggedTensor [[40, 41, 42, 43, 44, 45, 46], [63, 64, 65]]>"
            ]
          },
          "metadata": {},
          "execution_count": 8
        }
      ]
    },
    {
      "cell_type": "markdown",
      "source": [
        "### Inverting the representation above in order to recover human readable strings\n"
      ],
      "metadata": {
        "id": "cES-tPtNiaej"
      }
    },
    {
      "cell_type": "code",
      "source": [
        "chars_from_ids = tf.keras.layers.StringLookup(\n",
        "    vocabulary=ids_from_char_tokens.get_vocabulary(), invert=True, mask_token=None\n",
        ")"
      ],
      "metadata": {
        "id": "IT5Fev3qiriZ"
      },
      "execution_count": null,
      "outputs": []
    },
    {
      "cell_type": "code",
      "source": [
        "# This layer recovers the characters from the vectors of IDs, and returns them as a tf.RaggedTensor of characters:\n",
        "chars = chars_from_ids(ids)\n",
        "chars"
      ],
      "metadata": {
        "colab": {
          "base_uri": "https://localhost:8080/"
        },
        "id": "4t_IwX70kfAM",
        "outputId": "ef5d9d94-c212-433f-faac-ad6e5b397602"
      },
      "execution_count": null,
      "outputs": [
        {
          "output_type": "execute_result",
          "data": {
            "text/plain": [
              "<tf.RaggedTensor [[b'a', b'b', b'c', b'd', b'e', b'f', b'g'], [b'x', b'y', b'z']]>"
            ]
          },
          "metadata": {},
          "execution_count": 10
        }
      ]
    },
    {
      "cell_type": "markdown",
      "source": [
        "### Joining the characters back into strings using \n",
        "\n",
        "```\n",
        "- # tf.strings.reduce_join\n",
        "```\n",
        "\n"
      ],
      "metadata": {
        "id": "npwAAFRNlpMY"
      }
    },
    {
      "cell_type": "code",
      "source": [
        "tf.strings.reduce_join(chars, axis=-1).numpy()"
      ],
      "metadata": {
        "colab": {
          "base_uri": "https://localhost:8080/"
        },
        "id": "BXZSh4fUmMQy",
        "outputId": "0d968f62-16b9-4c07-b119-1688cbb82fb4"
      },
      "execution_count": null,
      "outputs": [
        {
          "output_type": "execute_result",
          "data": {
            "text/plain": [
              "array([b'abcdefg', b'xyz'], dtype=object)"
            ]
          },
          "metadata": {},
          "execution_count": 11
        }
      ]
    },
    {
      "cell_type": "code",
      "source": [
        "def text_from_ids(ids):\n",
        "  return tf.strings.reduce_join(chars_from_ids(ids), axis=-1)"
      ],
      "metadata": {
        "id": "HjDyFRSRmhVZ"
      },
      "execution_count": null,
      "outputs": []
    },
    {
      "cell_type": "markdown",
      "source": [
        "## Problem statement\n",
        "- Given a certain character or a sequence of characters predict the next character.\n",
        "- Input of the model is a set of character, the model should predict the output following character.\n",
        "\n",
        "### RNNs maintain an internal state on previously seen elements."
      ],
      "metadata": {
        "id": "ZPZwsNY0wPus"
      }
    },
    {
      "cell_type": "markdown",
      "source": [
        "# Creating Training samples and targets\n",
        "### - First divide the text into examples sequences. Each input sequence will contain `seq_length` charactes from text.\n",
        "### - Each input sequence, the corresponding targets contain the same length of text, except shifted one character to the right.\n",
        "### - So break the text into chunks of `seq_length+1`. For example, say `seq_length` is 4 and our text is \"Hello\". The input sequence would be \"Hell\", and the target sequence \"ello\".\n",
        "- To do this first use the `tf.data.Dataset.from_tensor_slices` function to convert the text vector into a stream of character indices."
      ],
      "metadata": {
        "id": "GSkeNKloxtNZ"
      }
    },
    {
      "cell_type": "code",
      "source": [
        "all_ids = ids_from_char_tokens(tf.strings.unicode_split(text, 'UTF-8'))\n",
        "all_ids"
      ],
      "metadata": {
        "colab": {
          "base_uri": "https://localhost:8080/"
        },
        "id": "Y2LGWjoH0pIE",
        "outputId": "4d79a8bd-ef6a-4863-fa62-0e6f4e979b28"
      },
      "execution_count": null,
      "outputs": [
        {
          "output_type": "execute_result",
          "data": {
            "text/plain": [
              "<tf.Tensor: shape=(1115394,), dtype=int64, numpy=array([19, 48, 57, ..., 46,  9,  1])>"
            ]
          },
          "metadata": {},
          "execution_count": 13
        }
      ]
    },
    {
      "cell_type": "code",
      "source": [
        "ids_dataset = tf.data.Dataset.from_tensor_slices(all_ids)"
      ],
      "metadata": {
        "id": "kY-Gjozm1Lvl"
      },
      "execution_count": null,
      "outputs": []
    },
    {
      "cell_type": "code",
      "source": [
        "for ids in ids_dataset.take(10):\n",
        "  print(chars_from_ids(ids).numpy().decode('utf-8'))"
      ],
      "metadata": {
        "colab": {
          "base_uri": "https://localhost:8080/"
        },
        "id": "xxjoR-rH1c2e",
        "outputId": "65ed6b88-6f69-4f56-a016-433c80a4f89c"
      },
      "execution_count": null,
      "outputs": [
        {
          "output_type": "stream",
          "name": "stdout",
          "text": [
            "F\n",
            "i\n",
            "r\n",
            "s\n",
            "t\n",
            " \n",
            "C\n",
            "i\n",
            "t\n",
            "i\n"
          ]
        }
      ]
    },
    {
      "cell_type": "code",
      "source": [
        "seq_length = 100"
      ],
      "metadata": {
        "id": "mkDFbhys145Z"
      },
      "execution_count": null,
      "outputs": []
    },
    {
      "cell_type": "markdown",
      "source": [
        "### The `batch` method lets you easily convert these individual characters to sequences of the desired size."
      ],
      "metadata": {
        "id": "i_occsPY198C"
      }
    },
    {
      "cell_type": "code",
      "source": [
        "sequences = ids_dataset.batch(seq_length+1, drop_remainder=True)\n",
        "\n",
        "for seq in sequences.take(1):\n",
        "  print(chars_from_ids(seq))"
      ],
      "metadata": {
        "colab": {
          "base_uri": "https://localhost:8080/"
        },
        "id": "I6E15Xx72Udk",
        "outputId": "0f250377-3722-4925-fb64-bfa1fd8b8a6a"
      },
      "execution_count": null,
      "outputs": [
        {
          "output_type": "stream",
          "name": "stdout",
          "text": [
            "tf.Tensor(\n",
            "[b'F' b'i' b'r' b's' b't' b' ' b'C' b'i' b't' b'i' b'z' b'e' b'n' b':'\n",
            " b'\\n' b'B' b'e' b'f' b'o' b'r' b'e' b' ' b'w' b'e' b' ' b'p' b'r' b'o'\n",
            " b'c' b'e' b'e' b'd' b' ' b'a' b'n' b'y' b' ' b'f' b'u' b'r' b't' b'h'\n",
            " b'e' b'r' b',' b' ' b'h' b'e' b'a' b'r' b' ' b'm' b'e' b' ' b's' b'p'\n",
            " b'e' b'a' b'k' b'.' b'\\n' b'\\n' b'A' b'l' b'l' b':' b'\\n' b'S' b'p' b'e'\n",
            " b'a' b'k' b',' b' ' b's' b'p' b'e' b'a' b'k' b'.' b'\\n' b'\\n' b'F' b'i'\n",
            " b'r' b's' b't' b' ' b'C' b'i' b't' b'i' b'z' b'e' b'n' b':' b'\\n' b'Y'\n",
            " b'o' b'u' b' '], shape=(101,), dtype=string)\n"
          ]
        }
      ]
    },
    {
      "cell_type": "markdown",
      "source": [
        "Sampling the above results"
      ],
      "metadata": {
        "id": "2H45gDc03MVz"
      }
    },
    {
      "cell_type": "code",
      "source": [
        "for seq in sequences.take(5):\n",
        "  print(text_from_ids(seq).numpy())"
      ],
      "metadata": {
        "colab": {
          "base_uri": "https://localhost:8080/"
        },
        "id": "n-NaZ-4L3W9h",
        "outputId": "ee52d8fe-aec7-4a18-945a-22974626a5f3"
      },
      "execution_count": null,
      "outputs": [
        {
          "output_type": "stream",
          "name": "stdout",
          "text": [
            "b'First Citizen:\\nBefore we proceed any further, hear me speak.\\n\\nAll:\\nSpeak, speak.\\n\\nFirst Citizen:\\nYou '\n",
            "b'are all resolved rather to die than to famish?\\n\\nAll:\\nResolved. resolved.\\n\\nFirst Citizen:\\nFirst, you k'\n",
            "b\"now Caius Marcius is chief enemy to the people.\\n\\nAll:\\nWe know't, we know't.\\n\\nFirst Citizen:\\nLet us ki\"\n",
            "b\"ll him, and we'll have corn at our own price.\\nIs't a verdict?\\n\\nAll:\\nNo more talking on't; let it be d\"\n",
            "b'one: away, away!\\n\\nSecond Citizen:\\nOne word, good citizens.\\n\\nFirst Citizen:\\nWe are accounted poor citi'\n"
          ]
        }
      ]
    },
    {
      "cell_type": "markdown",
      "source": [
        "- We need a dataset of (`input`, `label`) pairs. Where `input` & `label` are sequences.\n",
        "- At each time step the `input` is the current  character and the label is the next character.\n",
        "- The function takes a sequence as input, duplicates, and shifts it to align the input and label for each timestep.."
      ],
      "metadata": {
        "id": "OY7hCDpT53fe"
      }
    },
    {
      "cell_type": "code",
      "source": [
        "def split_input_target(sequence):\n",
        "  input_text = sequence[:-1]\n",
        "  target_text = sequence[1:]\n",
        "  return input_text, target_text"
      ],
      "metadata": {
        "id": "-ZDv2KyE8IVs"
      },
      "execution_count": null,
      "outputs": []
    },
    {
      "cell_type": "code",
      "source": [
        "split_input_target(list(\"Processing text\"))"
      ],
      "metadata": {
        "colab": {
          "base_uri": "https://localhost:8080/"
        },
        "id": "nKniHCS9DaOZ",
        "outputId": "4db6f318-5e91-4bad-c0d5-da2404756d67"
      },
      "execution_count": null,
      "outputs": [
        {
          "output_type": "execute_result",
          "data": {
            "text/plain": [
              "(['P', 'r', 'o', 'c', 'e', 's', 's', 'i', 'n', 'g', ' ', 't', 'e', 'x'],\n",
              " ['r', 'o', 'c', 'e', 's', 's', 'i', 'n', 'g', ' ', 't', 'e', 'x', 't'])"
            ]
          },
          "metadata": {},
          "execution_count": 20
        }
      ]
    },
    {
      "cell_type": "code",
      "source": [
        "dataset = sequences.map(split_input_target)"
      ],
      "metadata": {
        "id": "Q9CnZJ_iGhnu"
      },
      "execution_count": null,
      "outputs": []
    },
    {
      "cell_type": "code",
      "source": [
        "for input_sample, target_sample in dataset.take(1):\n",
        "  print(\"Input :\", text_from_ids(input_sample).numpy())\n",
        "  print(\"Target :\", text_from_ids(target_sample).numpy())"
      ],
      "metadata": {
        "colab": {
          "base_uri": "https://localhost:8080/"
        },
        "id": "ZV4R-OKnGue2",
        "outputId": "7c1cf853-b8b9-4c4a-8462-df93689127a0"
      },
      "execution_count": null,
      "outputs": [
        {
          "output_type": "stream",
          "name": "stdout",
          "text": [
            "Input : b'First Citizen:\\nBefore we proceed any further, hear me speak.\\n\\nAll:\\nSpeak, speak.\\n\\nFirst Citizen:\\nYou'\n",
            "Target : b'irst Citizen:\\nBefore we proceed any further, hear me speak.\\n\\nAll:\\nSpeak, speak.\\n\\nFirst Citizen:\\nYou '\n"
          ]
        }
      ]
    },
    {
      "cell_type": "markdown",
      "source": [
        "### Creating training batches (number of training examples)\n",
        "- We used `tf.data` to split the text into to manageable sequences, but before feedind this data into the model, we need to shuffle the data and pack it into batches."
      ],
      "metadata": {
        "id": "NVtqT9P3IJEN"
      }
    },
    {
      "cell_type": "code",
      "source": [
        "# Batch size\n",
        "BATCH_SIZE = 64\n",
        "\n",
        "# Buffer size to shuffle the dataset\n",
        "# (TF data is designed to work with possibly infinite sequences,\n",
        "# so it doesn't attempt to shuffle the entire sequence in memory. Instead,\n",
        "# it maintains a buffer in which it shuffles elements).\n",
        "BUFFER_SIZE = 10000\n",
        "\n",
        "dataset = (\n",
        "    dataset\n",
        "    .shuffle(BUFFER_SIZE)\n",
        "    .batch(BATCH_SIZE, drop_remainder=True)\n",
        "    .prefetch(tf.data.experimental.AUTOTUNE))\n",
        "\n",
        "dataset\n"
      ],
      "metadata": {
        "id": "qMVbp8GEI5Ri",
        "colab": {
          "base_uri": "https://localhost:8080/"
        },
        "outputId": "fd31fb09-77b7-4008-d89f-ee5fc698ab26"
      },
      "execution_count": null,
      "outputs": [
        {
          "output_type": "execute_result",
          "data": {
            "text/plain": [
              "<_PrefetchDataset element_spec=(TensorSpec(shape=(64, 100), dtype=tf.int64, name=None), TensorSpec(shape=(64, 100), dtype=tf.int64, name=None))>"
            ]
          },
          "metadata": {},
          "execution_count": 23
        }
      ]
    },
    {
      "cell_type": "markdown",
      "source": [
        "# Creating Text Processing Model"
      ],
      "metadata": {
        "id": "4Q8UaPGhvVns"
      }
    },
    {
      "cell_type": "markdown",
      "source": [
        "## Building The Model\n",
        "Our model contains three layers:\n",
        "\n",
        "\n",
        "*   `tf.keras.layers.Embedding`: The input layer. A trainable lookup table that will map each character-ID to a vector with embedding_dim dimensions;\n",
        "*    `tf.keras.layers.GRU`: A type of RNN with size `unit=rnn_units`\n",
        "*    `tf.keras.layers.Dense`: The output layer, with `vocab_size` outputs. It ouputs one logit (a function that represents probability values from 0 to 1) for each character in the vocabulary. These are the log-likelihood of each character according to the model.\n",
        "\n"
      ],
      "metadata": {
        "id": "8JX_cZFNouPj"
      }
    },
    {
      "cell_type": "code",
      "source": [
        "# Length of the vocabulary in the StringLookup Layer\n",
        "vocab_size = len(ids_from_char_tokens.get_vocabulary())\n",
        "\n",
        "#The embedding dimension\n",
        "embedding_dim = 256\n",
        "\n",
        "#Number of RNN units\n",
        "rnn_units = 1024"
      ],
      "metadata": {
        "id": "ym7zH9Dou0GN"
      },
      "execution_count": null,
      "outputs": []
    },
    {
      "cell_type": "code",
      "source": [
        "class MyModel(tf.keras.Model):\n",
        "  def __init__(self, vocab_size, embedding_dim, rnn_units):\n",
        "    super().__init__(self)\n",
        "    # Input Layer\n",
        "    self.embedding = tf.keras.layers.Embedding(vocab_size, embedding_dim )\n",
        "    # RNN \n",
        "    self.gru = tf.keras.layers.GRU(rnn_units,\n",
        "                                  return_sequences=True,\n",
        "                                  return_state=True )\n",
        "    #Output layer\n",
        "    self.dense = tf.keras.layers.Dense(vocab_size)\n",
        "  \n",
        "  def call(self, inputs, states=None, return_state=False, training=False):\n",
        "    x = inputs\n",
        "    x = self.embedding(x, training=training)\n",
        "    if states is None:\n",
        "      states = self.gru.get_initial_state(x)\n",
        "    x, states = self.gru(x, initial_state=states, training=training)\n",
        "    x = self.dense(x, training=training)\n",
        "\n",
        "    if return_state:\n",
        "      return x, states\n",
        "    else:\n",
        "      return x\n",
        "      \n"
      ],
      "metadata": {
        "id": "1AoI0WVdwUlM"
      },
      "execution_count": null,
      "outputs": []
    },
    {
      "cell_type": "code",
      "source": [
        "model = MyModel(\n",
        "    vocab_size=vocab_size,\n",
        "    embedding_dim=embedding_dim,\n",
        "    rnn_units=rnn_units\n",
        ")"
      ],
      "metadata": {
        "id": "ds3Xbfrkzb8R"
      },
      "execution_count": null,
      "outputs": []
    },
    {
      "cell_type": "markdown",
      "source": [
        "For each character the model looks up the embedding, runs the GRU one timestep with the embedding as input, and applies the dense layer to generate logits predicting the log-likelihood of the next character:\n",
        "\n",
        "![image.png](data:image/png;base64,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)\n"
      ],
      "metadata": {
        "id": "PegkUdTd0epE"
      }
    },
    {
      "cell_type": "markdown",
      "source": [],
      "metadata": {
        "id": "0MFffC5jQir5"
      }
    }
  ]
}